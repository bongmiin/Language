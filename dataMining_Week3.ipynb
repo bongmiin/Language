{
  "nbformat": 4,
  "nbformat_minor": 0,
  "metadata": {
    "colab": {
      "provenance": [],
      "authorship_tag": "ABX9TyNkYQ8b28oh9gbP6KJWDhnM",
      "include_colab_link": true
    },
    "kernelspec": {
      "name": "ir",
      "display_name": "R"
    },
    "language_info": {
      "name": "R"
    }
  },
  "cells": [
    {
      "cell_type": "markdown",
      "metadata": {
        "id": "view-in-github",
        "colab_type": "text"
      },
      "source": [
        "<a href=\"https://colab.research.google.com/github/bongmiin/Language/blob/main/dataMining_Week3.ipynb\" target=\"_parent\"><img src=\"https://colab.research.google.com/assets/colab-badge.svg\" alt=\"Open In Colab\"/></a>"
      ]
    },
    {
      "cell_type": "markdown",
      "source": [
        "## 배열과 행렬   \n",
        "array(), matrix( ) 함수를 이용해 생성한다"
      ],
      "metadata": {
        "id": "kO3zIbbaEPQf"
      }
    },
    {
      "cell_type": "code",
      "execution_count": null,
      "metadata": {
        "colab": {
          "base_uri": "https://localhost:8080/",
          "height": 177
        },
        "id": "XoqPJnaJEOW9",
        "outputId": "8b841105-2655-4cb1-e0de-a8765de9f7cd"
      },
      "outputs": [
        {
          "output_type": "display_data",
          "data": {
            "text/html": [
              "<table class=\"dataframe\">\n",
              "<caption>A matrix: 4 × 5 of type int</caption>\n",
              "<tbody>\n",
              "\t<tr><td>1</td><td>5</td><td> 9</td><td>13</td><td>17</td></tr>\n",
              "\t<tr><td>2</td><td>6</td><td>10</td><td>14</td><td>18</td></tr>\n",
              "\t<tr><td>3</td><td>7</td><td>11</td><td>15</td><td>19</td></tr>\n",
              "\t<tr><td>4</td><td>8</td><td>12</td><td>16</td><td>20</td></tr>\n",
              "</tbody>\n",
              "</table>\n"
            ],
            "text/markdown": "\nA matrix: 4 × 5 of type int\n\n| 1 | 5 |  9 | 13 | 17 |\n| 2 | 6 | 10 | 14 | 18 |\n| 3 | 7 | 11 | 15 | 19 |\n| 4 | 8 | 12 | 16 | 20 |\n\n",
            "text/latex": "A matrix: 4 × 5 of type int\n\\begin{tabular}{lllll}\n\t 1 & 5 &  9 & 13 & 17\\\\\n\t 2 & 6 & 10 & 14 & 18\\\\\n\t 3 & 7 & 11 & 15 & 19\\\\\n\t 4 & 8 & 12 & 16 & 20\\\\\n\\end{tabular}\n",
            "text/plain": [
              "     [,1] [,2] [,3] [,4] [,5]\n",
              "[1,] 1    5     9   13   17  \n",
              "[2,] 2    6    10   14   18  \n",
              "[3,] 3    7    11   15   19  \n",
              "[4,] 4    8    12   16   20  "
            ]
          },
          "metadata": {}
        }
      ],
      "source": [
        "z <- array(1:20, dim=c(4, 5))\n",
        "z"
      ]
    },
    {
      "cell_type": "code",
      "source": [
        "z <- matrix(1:20, 4, 5)\n",
        "z"
      ],
      "metadata": {
        "colab": {
          "base_uri": "https://localhost:8080/",
          "height": 177
        },
        "id": "CwEGe-eAEfAX",
        "outputId": "d3461dc7-8f0a-4e20-ea20-463946d2e464"
      },
      "execution_count": null,
      "outputs": [
        {
          "output_type": "display_data",
          "data": {
            "text/html": [
              "<table class=\"dataframe\">\n",
              "<caption>A matrix: 4 × 5 of type int</caption>\n",
              "<tbody>\n",
              "\t<tr><td>1</td><td>5</td><td> 9</td><td>13</td><td>17</td></tr>\n",
              "\t<tr><td>2</td><td>6</td><td>10</td><td>14</td><td>18</td></tr>\n",
              "\t<tr><td>3</td><td>7</td><td>11</td><td>15</td><td>19</td></tr>\n",
              "\t<tr><td>4</td><td>8</td><td>12</td><td>16</td><td>20</td></tr>\n",
              "</tbody>\n",
              "</table>\n"
            ],
            "text/markdown": "\nA matrix: 4 × 5 of type int\n\n| 1 | 5 |  9 | 13 | 17 |\n| 2 | 6 | 10 | 14 | 18 |\n| 3 | 7 | 11 | 15 | 19 |\n| 4 | 8 | 12 | 16 | 20 |\n\n",
            "text/latex": "A matrix: 4 × 5 of type int\n\\begin{tabular}{lllll}\n\t 1 & 5 &  9 & 13 & 17\\\\\n\t 2 & 6 & 10 & 14 & 18\\\\\n\t 3 & 7 & 11 & 15 & 19\\\\\n\t 4 & 8 & 12 & 16 & 20\\\\\n\\end{tabular}\n",
            "text/plain": [
              "     [,1] [,2] [,3] [,4] [,5]\n",
              "[1,] 1    5     9   13   17  \n",
              "[2,] 2    6    10   14   18  \n",
              "[3,] 3    7    11   15   19  \n",
              "[4,] 4    8    12   16   20  "
            ]
          },
          "metadata": {}
        }
      ]
    },
    {
      "cell_type": "code",
      "source": [
        "z <- matrix(2, 4, 5)\n",
        "z"
      ],
      "metadata": {
        "colab": {
          "base_uri": "https://localhost:8080/",
          "height": 177
        },
        "id": "XUJnoI4CEh1A",
        "outputId": "517f64ba-7073-441a-b202-32cc74ee8f85"
      },
      "execution_count": null,
      "outputs": [
        {
          "output_type": "display_data",
          "data": {
            "text/html": [
              "<table class=\"dataframe\">\n",
              "<caption>A matrix: 4 × 5 of type dbl</caption>\n",
              "<tbody>\n",
              "\t<tr><td>2</td><td>2</td><td>2</td><td>2</td><td>2</td></tr>\n",
              "\t<tr><td>2</td><td>2</td><td>2</td><td>2</td><td>2</td></tr>\n",
              "\t<tr><td>2</td><td>2</td><td>2</td><td>2</td><td>2</td></tr>\n",
              "\t<tr><td>2</td><td>2</td><td>2</td><td>2</td><td>2</td></tr>\n",
              "</tbody>\n",
              "</table>\n"
            ],
            "text/markdown": "\nA matrix: 4 × 5 of type dbl\n\n| 2 | 2 | 2 | 2 | 2 |\n| 2 | 2 | 2 | 2 | 2 |\n| 2 | 2 | 2 | 2 | 2 |\n| 2 | 2 | 2 | 2 | 2 |\n\n",
            "text/latex": "A matrix: 4 × 5 of type dbl\n\\begin{tabular}{lllll}\n\t 2 & 2 & 2 & 2 & 2\\\\\n\t 2 & 2 & 2 & 2 & 2\\\\\n\t 2 & 2 & 2 & 2 & 2\\\\\n\t 2 & 2 & 2 & 2 & 2\\\\\n\\end{tabular}\n",
            "text/plain": [
              "     [,1] [,2] [,3] [,4] [,5]\n",
              "[1,] 2    2    2    2    2   \n",
              "[2,] 2    2    2    2    2   \n",
              "[3,] 2    2    2    2    2   \n",
              "[4,] 2    2    2    2    2   "
            ]
          },
          "metadata": {}
        }
      ]
    },
    {
      "cell_type": "code",
      "source": [
        "z <- matrix(c(1, 2, 3, 4, 5, 6), nrow = 2, ncol = 3, byrow = T)\n",
        "z"
      ],
      "metadata": {
        "colab": {
          "base_uri": "https://localhost:8080/",
          "height": 132
        },
        "id": "22bSOeyuEmqo",
        "outputId": "89d91740-cc83-45ba-f58f-def8e713fc58"
      },
      "execution_count": null,
      "outputs": [
        {
          "output_type": "display_data",
          "data": {
            "text/html": [
              "<table class=\"dataframe\">\n",
              "<caption>A matrix: 2 × 3 of type dbl</caption>\n",
              "<tbody>\n",
              "\t<tr><td>1</td><td>2</td><td>3</td></tr>\n",
              "\t<tr><td>4</td><td>5</td><td>6</td></tr>\n",
              "</tbody>\n",
              "</table>\n"
            ],
            "text/markdown": "\nA matrix: 2 × 3 of type dbl\n\n| 1 | 2 | 3 |\n| 4 | 5 | 6 |\n\n",
            "text/latex": "A matrix: 2 × 3 of type dbl\n\\begin{tabular}{lll}\n\t 1 & 2 & 3\\\\\n\t 4 & 5 & 6\\\\\n\\end{tabular}\n",
            "text/plain": [
              "     [,1] [,2] [,3]\n",
              "[1,] 1    2    3   \n",
              "[2,] 4    5    6   "
            ]
          },
          "metadata": {}
        }
      ]
    },
    {
      "cell_type": "code",
      "source": [
        "z[2, 3]"
      ],
      "metadata": {
        "colab": {
          "base_uri": "https://localhost:8080/",
          "height": 34
        },
        "id": "pzYxt4ivEqK_",
        "outputId": "ced2ba87-a4f2-4c4d-8518-5c0a88d10528"
      },
      "execution_count": null,
      "outputs": [
        {
          "output_type": "display_data",
          "data": {
            "text/html": [
              "6"
            ],
            "text/markdown": "6",
            "text/latex": "6",
            "text/plain": [
              "[1] 6"
            ]
          },
          "metadata": {}
        }
      ]
    },
    {
      "cell_type": "markdown",
      "source": [
        "기존의 벡터(들) 또는 행렬을 결합해 새로운 행렬을 만들 수 있다"
      ],
      "metadata": {
        "id": "lPmhHwZfFBNQ"
      }
    },
    {
      "cell_type": "code",
      "source": [
        "x <- 1:4\n",
        "y <- 5:8\n",
        "cbind(x, y)"
      ],
      "metadata": {
        "colab": {
          "base_uri": "https://localhost:8080/",
          "height": 279
        },
        "id": "k1svqBZNE9cw",
        "outputId": "394fd372-f03c-47a1-8fdd-5180bdbdcac9"
      },
      "execution_count": null,
      "outputs": [
        {
          "output_type": "display_data",
          "data": {
            "text/html": [
              "<table class=\"dataframe\">\n",
              "<caption>A matrix: 4 × 2 of type int</caption>\n",
              "<thead>\n",
              "\t<tr><th scope=col>x</th><th scope=col>y</th></tr>\n",
              "</thead>\n",
              "<tbody>\n",
              "\t<tr><td>1</td><td>5</td></tr>\n",
              "\t<tr><td>2</td><td>6</td></tr>\n",
              "\t<tr><td>3</td><td>7</td></tr>\n",
              "\t<tr><td>4</td><td>8</td></tr>\n",
              "</tbody>\n",
              "</table>\n"
            ],
            "text/markdown": "\nA matrix: 4 × 2 of type int\n\n| x | y |\n|---|---|\n| 1 | 5 |\n| 2 | 6 |\n| 3 | 7 |\n| 4 | 8 |\n\n",
            "text/latex": "A matrix: 4 × 2 of type int\n\\begin{tabular}{ll}\n x & y\\\\\n\\hline\n\t 1 & 5\\\\\n\t 2 & 6\\\\\n\t 3 & 7\\\\\n\t 4 & 8\\\\\n\\end{tabular}\n",
            "text/plain": [
              "     x y\n",
              "[1,] 1 5\n",
              "[2,] 2 6\n",
              "[3,] 3 7\n",
              "[4,] 4 8"
            ]
          },
          "metadata": {}
        }
      ]
    },
    {
      "cell_type": "code",
      "source": [
        "rbind(x, y)"
      ],
      "metadata": {
        "colab": {
          "base_uri": "https://localhost:8080/",
          "height": 114
        },
        "id": "YhrCaWFXFI0o",
        "outputId": "d894fded-8119-4df6-86f9-b99f661b82be"
      },
      "execution_count": null,
      "outputs": [
        {
          "output_type": "display_data",
          "data": {
            "text/html": [
              "<table class=\"dataframe\">\n",
              "<caption>A matrix: 2 × 4 of type int</caption>\n",
              "<tbody>\n",
              "\t<tr><th scope=row>x</th><td>1</td><td>2</td><td>3</td><td>4</td></tr>\n",
              "\t<tr><th scope=row>y</th><td>5</td><td>6</td><td>7</td><td>8</td></tr>\n",
              "</tbody>\n",
              "</table>\n"
            ],
            "text/markdown": "\nA matrix: 2 × 4 of type int\n\n| x | 1 | 2 | 3 | 4 |\n| y | 5 | 6 | 7 | 8 |\n\n",
            "text/latex": "A matrix: 2 × 4 of type int\n\\begin{tabular}{r|llll}\n\tx & 1 & 2 & 3 & 4\\\\\n\ty & 5 & 6 & 7 & 8\\\\\n\\end{tabular}\n",
            "text/plain": [
              "  [,1] [,2] [,3] [,4]\n",
              "x 1    2    3    4   \n",
              "y 5    6    7    8   "
            ]
          },
          "metadata": {}
        }
      ]
    },
    {
      "cell_type": "code",
      "source": [
        "B <- matrix(0, 4, 5)\n",
        "cbind(B, 1:4)"
      ],
      "metadata": {
        "colab": {
          "base_uri": "https://localhost:8080/",
          "height": 177
        },
        "id": "J9gaAY0UFPDP",
        "outputId": "ffaf3323-3adc-4224-a407-cb5a8d832793"
      },
      "execution_count": null,
      "outputs": [
        {
          "output_type": "display_data",
          "data": {
            "text/html": [
              "<table class=\"dataframe\">\n",
              "<caption>A matrix: 4 × 6 of type dbl</caption>\n",
              "<tbody>\n",
              "\t<tr><td>0</td><td>0</td><td>0</td><td>0</td><td>0</td><td>1</td></tr>\n",
              "\t<tr><td>0</td><td>0</td><td>0</td><td>0</td><td>0</td><td>2</td></tr>\n",
              "\t<tr><td>0</td><td>0</td><td>0</td><td>0</td><td>0</td><td>3</td></tr>\n",
              "\t<tr><td>0</td><td>0</td><td>0</td><td>0</td><td>0</td><td>4</td></tr>\n",
              "</tbody>\n",
              "</table>\n"
            ],
            "text/markdown": "\nA matrix: 4 × 6 of type dbl\n\n| 0 | 0 | 0 | 0 | 0 | 1 |\n| 0 | 0 | 0 | 0 | 0 | 2 |\n| 0 | 0 | 0 | 0 | 0 | 3 |\n| 0 | 0 | 0 | 0 | 0 | 4 |\n\n",
            "text/latex": "A matrix: 4 × 6 of type dbl\n\\begin{tabular}{llllll}\n\t 0 & 0 & 0 & 0 & 0 & 1\\\\\n\t 0 & 0 & 0 & 0 & 0 & 2\\\\\n\t 0 & 0 & 0 & 0 & 0 & 3\\\\\n\t 0 & 0 & 0 & 0 & 0 & 4\\\\\n\\end{tabular}\n",
            "text/plain": [
              "     [,1] [,2] [,3] [,4] [,5] [,6]\n",
              "[1,] 0    0    0    0    0    1   \n",
              "[2,] 0    0    0    0    0    2   \n",
              "[3,] 0    0    0    0    0    3   \n",
              "[4,] 0    0    0    0    0    4   "
            ]
          },
          "metadata": {}
        }
      ]
    },
    {
      "cell_type": "code",
      "source": [
        "A <- matrix(1:20, 4, 5)\n",
        "B <- matrix(1:20, 4, 5)\n",
        "C <- cbind(A, B)\n",
        "C"
      ],
      "metadata": {
        "colab": {
          "base_uri": "https://localhost:8080/",
          "height": 160
        },
        "id": "NIGtvQo0FUlQ",
        "outputId": "cb3cc97a-8c25-4639-f20f-f678d4e255fb"
      },
      "execution_count": null,
      "outputs": [
        {
          "output_type": "display_data",
          "data": {
            "text/html": [
              "<table class=\"dataframe\">\n",
              "<caption>A matrix: 4 × 10 of type int</caption>\n",
              "<tbody>\n",
              "\t<tr><td>1</td><td>5</td><td> 9</td><td>13</td><td>17</td><td>1</td><td>5</td><td> 9</td><td>13</td><td>17</td></tr>\n",
              "\t<tr><td>2</td><td>6</td><td>10</td><td>14</td><td>18</td><td>2</td><td>6</td><td>10</td><td>14</td><td>18</td></tr>\n",
              "\t<tr><td>3</td><td>7</td><td>11</td><td>15</td><td>19</td><td>3</td><td>7</td><td>11</td><td>15</td><td>19</td></tr>\n",
              "\t<tr><td>4</td><td>8</td><td>12</td><td>16</td><td>20</td><td>4</td><td>8</td><td>12</td><td>16</td><td>20</td></tr>\n",
              "</tbody>\n",
              "</table>\n"
            ],
            "text/markdown": "\nA matrix: 4 × 10 of type int\n\n| 1 | 5 |  9 | 13 | 17 | 1 | 5 |  9 | 13 | 17 |\n| 2 | 6 | 10 | 14 | 18 | 2 | 6 | 10 | 14 | 18 |\n| 3 | 7 | 11 | 15 | 19 | 3 | 7 | 11 | 15 | 19 |\n| 4 | 8 | 12 | 16 | 20 | 4 | 8 | 12 | 16 | 20 |\n\n",
            "text/latex": "A matrix: 4 × 10 of type int\n\\begin{tabular}{llllllllll}\n\t 1 & 5 &  9 & 13 & 17 & 1 & 5 &  9 & 13 & 17\\\\\n\t 2 & 6 & 10 & 14 & 18 & 2 & 6 & 10 & 14 & 18\\\\\n\t 3 & 7 & 11 & 15 & 19 & 3 & 7 & 11 & 15 & 19\\\\\n\t 4 & 8 & 12 & 16 & 20 & 4 & 8 & 12 & 16 & 20\\\\\n\\end{tabular}\n",
            "text/plain": [
              "     [,1] [,2] [,3] [,4] [,5] [,6] [,7] [,8] [,9] [,10]\n",
              "[1,] 1    5     9   13   17   1    5     9   13   17   \n",
              "[2,] 2    6    10   14   18   2    6    10   14   18   \n",
              "[3,] 3    7    11   15   19   3    7    11   15   19   \n",
              "[4,] 4    8    12   16   20   4    8    12   16   20   "
            ]
          },
          "metadata": {}
        }
      ]
    },
    {
      "cell_type": "markdown",
      "source": [
        "- cbind( ): 열 방향으로 결합\n",
        "- rbind( ): 행 방향으로 결합   \n",
        "    \n",
        "행렬 간 산술연산은 벡터와 마찬가지로 성분별 연산이다."
      ],
      "metadata": {
        "id": "R_Hr132_FhJP"
      }
    },
    {
      "cell_type": "code",
      "source": [
        "print(A + B)"
      ],
      "metadata": {
        "colab": {
          "base_uri": "https://localhost:8080/"
        },
        "id": "DIvl2xTRFcr3",
        "outputId": "c5d5e36f-48fd-436b-b480-61cdab01ea17"
      },
      "execution_count": null,
      "outputs": [
        {
          "output_type": "stream",
          "name": "stdout",
          "text": [
            "     [,1] [,2] [,3] [,4] [,5]\n",
            "[1,]    2   10   18   26   34\n",
            "[2,]    4   12   20   28   36\n",
            "[3,]    6   14   22   30   38\n",
            "[4,]    8   16   24   32   40\n"
          ]
        }
      ]
    },
    {
      "cell_type": "code",
      "source": [
        "print(A - B)"
      ],
      "metadata": {
        "colab": {
          "base_uri": "https://localhost:8080/"
        },
        "id": "5nrfqW0EF4zv",
        "outputId": "9a5fc6fb-4dfc-435a-a772-0429e92b1646"
      },
      "execution_count": null,
      "outputs": [
        {
          "output_type": "stream",
          "name": "stdout",
          "text": [
            "     [,1] [,2] [,3] [,4] [,5]\n",
            "[1,]    0    0    0    0    0\n",
            "[2,]    0    0    0    0    0\n",
            "[3,]    0    0    0    0    0\n",
            "[4,]    0    0    0    0    0\n"
          ]
        }
      ]
    },
    {
      "cell_type": "markdown",
      "source": [
        "두 행렬의 차원이 같지 않은 경우 재사용 규칙X, 에러메세지 발생"
      ],
      "metadata": {
        "id": "46EPl7ZlGU5I"
      }
    },
    {
      "cell_type": "markdown",
      "source": [
        "## 데이터 프레임\n",
        "---------------\n",
        "새로운 데이터 프레임을 생성하려면 data.frame()함수를 이용한다.\n",
        "\n",
        "--------------\n",
        "다음은 데이터프레임에 자주 사용되는 기본 함수의 예이다.   \n",
        "**특히 class( )함수는 객체지향 프로그래밍 측면에서 객체의 클래스 정보를 알려주거나 지정할 수 있는 유용한 함수이니 기억해두자**\n"
      ],
      "metadata": {
        "id": "sOjouaLUGkAN"
      }
    },
    {
      "cell_type": "code",
      "source": [
        "dat.2 <- data.frame(x=1:3, y=c('a','b','c'), stringsAsFactors = F)"
      ],
      "metadata": {
        "id": "YFrSTTBdGbwf"
      },
      "execution_count": null,
      "outputs": []
    },
    {
      "cell_type": "code",
      "source": [
        "typeof(dat.2)"
      ],
      "metadata": {
        "colab": {
          "base_uri": "https://localhost:8080/",
          "height": 34
        },
        "id": "9AT2UeUGHHFl",
        "outputId": "6572c7e4-3994-4b6a-ae8b-616f2961b43f"
      },
      "execution_count": null,
      "outputs": [
        {
          "output_type": "display_data",
          "data": {
            "text/html": [
              "'list'"
            ],
            "text/markdown": "'list'",
            "text/latex": "'list'",
            "text/plain": [
              "[1] \"list\""
            ]
          },
          "metadata": {}
        }
      ]
    },
    {
      "cell_type": "code",
      "source": [
        "class(dat.2)"
      ],
      "metadata": {
        "colab": {
          "base_uri": "https://localhost:8080/",
          "height": 34
        },
        "id": "QH8NGFGIHViP",
        "outputId": "5db66eba-2e14-4ee2-eb08-f77aa41efee0"
      },
      "execution_count": null,
      "outputs": [
        {
          "output_type": "display_data",
          "data": {
            "text/html": [
              "'data.frame'"
            ],
            "text/markdown": "'data.frame'",
            "text/latex": "'data.frame'",
            "text/plain": [
              "[1] \"data.frame\""
            ]
          },
          "metadata": {}
        }
      ]
    },
    {
      "cell_type": "code",
      "source": [
        "is.data.frame(dat.2)"
      ],
      "metadata": {
        "colab": {
          "base_uri": "https://localhost:8080/",
          "height": 34
        },
        "id": "rSS132TqHW4u",
        "outputId": "24e507d0-0791-4bbf-8d8a-295df0bdd948"
      },
      "execution_count": null,
      "outputs": [
        {
          "output_type": "display_data",
          "data": {
            "text/html": [
              "TRUE"
            ],
            "text/markdown": "TRUE",
            "text/latex": "TRUE",
            "text/plain": [
              "[1] TRUE"
            ]
          },
          "metadata": {}
        }
      ]
    },
    {
      "cell_type": "markdown",
      "source": [
        "-----\n",
        "### R 작업 디렉토리 지정 & csv읽기   \n",
        "선형회귀분석"
      ],
      "metadata": {
        "id": "26KSco7nI_iG"
      }
    },
    {
      "cell_type": "code",
      "source": [
        "getwd()"
      ],
      "metadata": {
        "colab": {
          "base_uri": "https://localhost:8080/",
          "height": 34
        },
        "id": "DW25sCJQHchO",
        "outputId": "4b0b7aeb-da01-4df3-db9f-717d50466974"
      },
      "execution_count": null,
      "outputs": [
        {
          "output_type": "display_data",
          "data": {
            "text/html": [
              "'/content/sample_data'"
            ],
            "text/markdown": "'/content/sample_data'",
            "text/latex": "'/content/sample\\_data'",
            "text/plain": [
              "[1] \"/content/sample_data\""
            ]
          },
          "metadata": {}
        }
      ]
    },
    {
      "cell_type": "code",
      "source": [
        "prod <-read.csv('productivityORG.csv')"
      ],
      "metadata": {
        "id": "HSL_3IQwH-Pd"
      },
      "execution_count": null,
      "outputs": []
    },
    {
      "cell_type": "code",
      "source": [
        "prod$date <- as.Date(prod$date, format= '%m/%d/%y')"
      ],
      "metadata": {
        "id": "3Sbjy_nEIg82"
      },
      "execution_count": null,
      "outputs": []
    },
    {
      "cell_type": "code",
      "source": [
        "prod$quarter <- factor(prod$quarter)"
      ],
      "metadata": {
        "id": "iDVuzkwnJQ6d"
      },
      "execution_count": null,
      "outputs": []
    },
    {
      "cell_type": "code",
      "source": [
        "prod$department <- factor(prod$department)"
      ],
      "metadata": {
        "id": "DN_IY06WJTX9"
      },
      "execution_count": null,
      "outputs": []
    },
    {
      "cell_type": "code",
      "source": [
        "prod$day <- factor(prod$day)\n",
        "prod$team <- factor(prod$team)"
      ],
      "metadata": {
        "id": "9RT4waNvLa70"
      },
      "execution_count": null,
      "outputs": []
    },
    {
      "cell_type": "code",
      "source": [
        "summary(prod)"
      ],
      "metadata": {
        "colab": {
          "base_uri": "https://localhost:8080/",
          "height": 605
        },
        "id": "zrwnrYs1La5U",
        "outputId": "3347a4a3-d29b-4e91-c320-4d3595db4c0d"
      },
      "execution_count": null,
      "outputs": [
        {
          "output_type": "display_data",
          "data": {
            "text/plain": [
              "      date                quarter        department         day     \n",
              " Min.   :2020-01-01   Quarter1:360   finishing:506   Monday   :199  \n",
              " 1st Qu.:2020-01-18   Quarter2:335   sweing   :691   Saturday :187  \n",
              " Median :2020-02-03   Quarter3:210                   Sunday   :203  \n",
              " Mean   :2020-02-04   Quarter4:248                   Thursday :199  \n",
              " 3rd Qu.:2020-02-23   Quarter5: 44                   Tuesday  :201  \n",
              " Max.   :2020-03-11                                  Wednesday:208  \n",
              "                                                                    \n",
              "      team         target            smv             wip         \n",
              " 2      :109   Min.   :0.0700   Min.   : 2.90   Min.   :    0.0  \n",
              " 8      :109   1st Qu.:0.7000   1st Qu.: 3.94   1st Qu.:    0.0  \n",
              " 1      :105   Median :0.7500   Median :15.26   Median :  586.0  \n",
              " 4      :105   Mean   :0.7296   Mean   :15.06   Mean   :  687.2  \n",
              " 9      :104   3rd Qu.:0.8000   3rd Qu.:24.26   3rd Qu.: 1083.0  \n",
              " 10     :100   Max.   :0.8000   Max.   :54.56   Max.   :23122.0  \n",
              " (Other):565                                                     \n",
              "   over_time       incentive         idle_time           idle_men      \n",
              " Min.   :    0   Min.   :   0.00   Min.   :  0.0000   Min.   : 0.0000  \n",
              " 1st Qu.: 1440   1st Qu.:   0.00   1st Qu.:  0.0000   1st Qu.: 0.0000  \n",
              " Median : 3960   Median :   0.00   Median :  0.0000   Median : 0.0000  \n",
              " Mean   : 4567   Mean   :  38.21   Mean   :  0.7302   Mean   : 0.3693  \n",
              " 3rd Qu.: 6960   3rd Qu.:  50.00   3rd Qu.:  0.0000   3rd Qu.: 0.0000  \n",
              " Max.   :25920   Max.   :3600.00   Max.   :300.0000   Max.   :45.0000  \n",
              "                                                                       \n",
              "   numchange        numworkers     productivity   \n",
              " Min.   :0.0000   Min.   : 2.00   Min.   :0.2337  \n",
              " 1st Qu.:0.0000   1st Qu.: 9.00   1st Qu.:0.6503  \n",
              " Median :0.0000   Median :34.00   Median :0.7733  \n",
              " Mean   :0.1504   Mean   :34.61   Mean   :0.7351  \n",
              " 3rd Qu.:0.0000   3rd Qu.:57.00   3rd Qu.:0.8503  \n",
              " Max.   :2.0000   Max.   :89.00   Max.   :1.1204  \n",
              "                                                  "
            ]
          },
          "metadata": {}
        }
      ]
    },
    {
      "cell_type": "code",
      "source": [],
      "metadata": {
        "id": "GywRzINULa3U"
      },
      "execution_count": null,
      "outputs": []
    },
    {
      "cell_type": "code",
      "source": [],
      "metadata": {
        "id": "JAVUoz9KLars"
      },
      "execution_count": null,
      "outputs": []
    },
    {
      "cell_type": "markdown",
      "source": [
        "-----\n",
        "## Factor\n",
        "범주화를 시킬 때 factor()라는 함수를 사용한다.  \n",
        "\n"
      ],
      "metadata": {
        "id": "XBBab4cfKjbt"
      }
    },
    {
      "cell_type": "code",
      "source": [],
      "metadata": {
        "id": "B10Aj4_oKvC8"
      },
      "execution_count": null,
      "outputs": []
    }
  ]
}